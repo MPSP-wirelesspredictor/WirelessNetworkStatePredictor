{
 "cells": [
  {
   "cell_type": "code",
   "execution_count": null,
   "metadata": {},
   "outputs": [],
   "source": [
    "#title           :fc_py3.ipynb\n",
    "#description     :This downloads current weather data.\n",
    "#author          :Yuanyuan Zhao\n",
    "#date            :20181003\n",
    "#version         :3\n",
    "#notes           :\n",
    "#python_version  :3.6.4\n",
    "#==============================================================================\n",
    "\n",
    "from datetime import datetime, date, time, timedelta\n",
    "import time as t1\n",
    "import requests\n",
    "import bs4\n",
    "import json\n",
    "import yaml\n",
    "import csv\n",
    "\n",
    "# scrapes current weather data from openweathermap.org\n",
    "def spider(path):\n",
    "    global curResult \n",
    "    curResult = []\n",
    "    locs = []\n",
    "\n",
    "#     reads in locations\n",
    "    with open(path, 'r') as csvf:\n",
    "        dataReader = csv.reader(csvf)\n",
    "        for line in dataReader:\n",
    "            locs.append(line)\n",
    "#         stores data in the following format: \n",
    "#         [dt, temp, pressure, humidity, temp_min, temp_max, wind_speed, clouds, weather_id, weather, description]\n",
    "    for loc in locs:\n",
    "        url = \"http://api.openweathermap.org/data/2.5/weather?lat=%s&lon=%s&APPID=ea4985020f724407dea8833c9dfee64c\"%(loc[0], loc[1])\n",
    "        response = requests.get(url)\n",
    "        x = yaml.load(json.dumps(response.json()))\n",
    "        weather_data = ((item[\"id\"], item[\"main\"], item[\"description\"]) for item in x[\"weather\"])\n",
    "        curResult.append([datetime.utcfromtimestamp(int(x[\"dt\"])).strftime('%Y-%m-%d %H:%M:%S'),\n",
    "                    x[\"main\"][\"temp\"],\n",
    "                    x[\"main\"][\"pressure\"],\n",
    "                    x[\"main\"][\"humidity\"],\n",
    "                    x[\"main\"][\"temp_min\"],\n",
    "                    x[\"main\"][\"temp_max\"],\n",
    "                    x[\"wind\"][\"speed\"],\n",
    "                    x[\"clouds\"][\"all\"],\n",
    "                    list(weather_data)\n",
    "                    ])\n",
    "    return curResult\n",
    "\n",
    "while(True):\n",
    "#     forecast weather data for each path\n",
    "    cur_AUR02_CAR01 = spider('AUR02-CAR01.csv')\n",
    "    cur_CHI02_AUR02 = spider('CHI02-AUR02.csv')\n",
    "    cur_FRA01_SLO02 = spider('FRA01-SLO02.csv')\n",
    "    cur_SEC10_TOR01 = spider('SEC10-TOR01.csv')\n",
    "#     update every half hour\n",
    "    t1.sleep(60*30)\n"
   ]
  },
  {
   "cell_type": "code",
   "execution_count": null,
   "metadata": {},
   "outputs": [],
   "source": []
  }
 ],
 "metadata": {
  "kernelspec": {
   "display_name": "Python 3",
   "language": "python",
   "name": "python3"
  },
  "language_info": {
   "codemirror_mode": {
    "name": "ipython",
    "version": 3
   },
   "file_extension": ".py",
   "mimetype": "text/x-python",
   "name": "python",
   "nbconvert_exporter": "python",
   "pygments_lexer": "ipython3",
   "version": "3.6.4"
  }
 },
 "nbformat": 4,
 "nbformat_minor": 2
}
